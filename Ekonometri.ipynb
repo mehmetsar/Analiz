{
 "cells": [
  {
   "cell_type": "code",
   "execution_count": 5,
   "id": "ff53575f",
   "metadata": {},
   "outputs": [],
   "source": [
    "import numpy as np\n",
    "import pandas as pd\n",
    "import matplotlib.pyplot as plt\n",
    "import seaborn as sns"
   ]
  },
  {
   "cell_type": "code",
   "execution_count": 2,
   "id": "07f2977a",
   "metadata": {},
   "outputs": [
    {
     "name": "stdout",
     "output_type": "stream",
     "text": [
      "Requirement already satisfied: statsmodels in c:\\users\\casper\\anaconda3\\lib\\site-packages (0.12.2)\n",
      "Requirement already satisfied: numpy>=1.15 in c:\\users\\casper\\anaconda3\\lib\\site-packages (from statsmodels) (1.20.1)\n",
      "Requirement already satisfied: scipy>=1.1 in c:\\users\\casper\\anaconda3\\lib\\site-packages (from statsmodels) (1.6.2)\n",
      "Requirement already satisfied: pandas>=0.21 in c:\\users\\casper\\anaconda3\\lib\\site-packages (from statsmodels) (1.2.4)\n",
      "Requirement already satisfied: patsy>=0.5 in c:\\users\\casper\\anaconda3\\lib\\site-packages (from statsmodels) (0.5.1)\n",
      "Requirement already satisfied: pytz>=2017.3 in c:\\users\\casper\\anaconda3\\lib\\site-packages (from pandas>=0.21->statsmodels) (2021.1)\n",
      "Requirement already satisfied: python-dateutil>=2.7.3 in c:\\users\\casper\\anaconda3\\lib\\site-packages (from pandas>=0.21->statsmodels) (2.8.1)\n",
      "Requirement already satisfied: six in c:\\users\\casper\\anaconda3\\lib\\site-packages (from patsy>=0.5->statsmodels) (1.15.0)\n",
      "Note: you may need to restart the kernel to use updated packages.\n"
     ]
    }
   ],
   "source": [
    "pip install statsmodels"
   ]
  },
  {
   "cell_type": "code",
   "execution_count": 6,
   "id": "459dd24d",
   "metadata": {},
   "outputs": [],
   "source": [
    "from statsmodels.formula.api import ols\n",
    "from statsmodels.stats.anova import anova_lm"
   ]
  },
  {
   "cell_type": "code",
   "execution_count": 36,
   "id": "49830d49",
   "metadata": {},
   "outputs": [],
   "source": [
    "import pylab\n",
    "import scipy.stats as stats"
   ]
  },
  {
   "cell_type": "markdown",
   "id": "0ac63c20",
   "metadata": {},
   "source": [
    "### Mahfi Eğilmezin 2016 Ağustos'da şahsi websitesi üzerinden yayınladığı Tüketim Fonksiyonu ve Türkiyede'ki veri seti kullanılmıştır. Veri setindeki sütun bilgileri milyar TL cinsindendir.\n"
   ]
  },
  {
   "cell_type": "code",
   "execution_count": 7,
   "id": "d0c0ee04",
   "metadata": {},
   "outputs": [
    {
     "data": {
      "text/html": [
       "<div>\n",
       "<style scoped>\n",
       "    .dataframe tbody tr th:only-of-type {\n",
       "        vertical-align: middle;\n",
       "    }\n",
       "\n",
       "    .dataframe tbody tr th {\n",
       "        vertical-align: top;\n",
       "    }\n",
       "\n",
       "    .dataframe thead th {\n",
       "        text-align: right;\n",
       "    }\n",
       "</style>\n",
       "<table border=\"1\" class=\"dataframe\">\n",
       "  <thead>\n",
       "    <tr style=\"text-align: right;\">\n",
       "      <th></th>\n",
       "      <th>Yıllar</th>\n",
       "      <th>GSYH</th>\n",
       "      <th>GSYH Artış</th>\n",
       "      <th>Özel Tüketim</th>\n",
       "      <th>Tüketim Artışı</th>\n",
       "      <th>Tüketim/GSYH (%)</th>\n",
       "    </tr>\n",
       "  </thead>\n",
       "  <tbody>\n",
       "    <tr>\n",
       "      <th>0</th>\n",
       "      <td>1998</td>\n",
       "      <td>70.2</td>\n",
       "      <td>-</td>\n",
       "      <td>46.7</td>\n",
       "      <td>-</td>\n",
       "      <td>66.5</td>\n",
       "    </tr>\n",
       "    <tr>\n",
       "      <th>1</th>\n",
       "      <td>1999</td>\n",
       "      <td>104.6</td>\n",
       "      <td>34.4</td>\n",
       "      <td>71.6</td>\n",
       "      <td>24.9</td>\n",
       "      <td>68.5</td>\n",
       "    </tr>\n",
       "    <tr>\n",
       "      <th>2</th>\n",
       "      <td>2000</td>\n",
       "      <td>166.7</td>\n",
       "      <td>62.1</td>\n",
       "      <td>117.5</td>\n",
       "      <td>45.9</td>\n",
       "      <td>70.5</td>\n",
       "    </tr>\n",
       "    <tr>\n",
       "      <th>3</th>\n",
       "      <td>2001</td>\n",
       "      <td>240.2</td>\n",
       "      <td>73.5</td>\n",
       "      <td>164.3</td>\n",
       "      <td>46.8</td>\n",
       "      <td>68.4</td>\n",
       "    </tr>\n",
       "    <tr>\n",
       "      <th>4</th>\n",
       "      <td>2002</td>\n",
       "      <td>350.5</td>\n",
       "      <td>110.3</td>\n",
       "      <td>238.4</td>\n",
       "      <td>74.1</td>\n",
       "      <td>68.0</td>\n",
       "    </tr>\n",
       "    <tr>\n",
       "      <th>5</th>\n",
       "      <td>2003</td>\n",
       "      <td>454.8</td>\n",
       "      <td>104.3</td>\n",
       "      <td>324.0</td>\n",
       "      <td>85.6</td>\n",
       "      <td>71.2</td>\n",
       "    </tr>\n",
       "    <tr>\n",
       "      <th>6</th>\n",
       "      <td>2004</td>\n",
       "      <td>559.0</td>\n",
       "      <td>104.2</td>\n",
       "      <td>398.6</td>\n",
       "      <td>74.6</td>\n",
       "      <td>71.3</td>\n",
       "    </tr>\n",
       "    <tr>\n",
       "      <th>7</th>\n",
       "      <td>2005</td>\n",
       "      <td>648.9</td>\n",
       "      <td>89.9</td>\n",
       "      <td>465.4</td>\n",
       "      <td>66.8</td>\n",
       "      <td>71.7</td>\n",
       "    </tr>\n",
       "    <tr>\n",
       "      <th>8</th>\n",
       "      <td>2006</td>\n",
       "      <td>758.4</td>\n",
       "      <td>109.5</td>\n",
       "      <td>534.8</td>\n",
       "      <td>69.4</td>\n",
       "      <td>70.5</td>\n",
       "    </tr>\n",
       "    <tr>\n",
       "      <th>9</th>\n",
       "      <td>2007</td>\n",
       "      <td>843.2</td>\n",
       "      <td>84.8</td>\n",
       "      <td>601.2</td>\n",
       "      <td>66.4</td>\n",
       "      <td>71.3</td>\n",
       "    </tr>\n",
       "    <tr>\n",
       "      <th>10</th>\n",
       "      <td>2008</td>\n",
       "      <td>950.5</td>\n",
       "      <td>107.3</td>\n",
       "      <td>663.9</td>\n",
       "      <td>62.7</td>\n",
       "      <td>69.8</td>\n",
       "    </tr>\n",
       "    <tr>\n",
       "      <th>11</th>\n",
       "      <td>2009</td>\n",
       "      <td>952.6</td>\n",
       "      <td>2.1</td>\n",
       "      <td>680.8</td>\n",
       "      <td>16.9</td>\n",
       "      <td>71.5</td>\n",
       "    </tr>\n",
       "    <tr>\n",
       "      <th>12</th>\n",
       "      <td>2010</td>\n",
       "      <td>1098.8</td>\n",
       "      <td>146.2</td>\n",
       "      <td>787.8</td>\n",
       "      <td>107</td>\n",
       "      <td>71.7</td>\n",
       "    </tr>\n",
       "    <tr>\n",
       "      <th>13</th>\n",
       "      <td>2011</td>\n",
       "      <td>1297.7</td>\n",
       "      <td>198.9</td>\n",
       "      <td>923.8</td>\n",
       "      <td>136</td>\n",
       "      <td>71.2</td>\n",
       "    </tr>\n",
       "    <tr>\n",
       "      <th>14</th>\n",
       "      <td>2012</td>\n",
       "      <td>1416.8</td>\n",
       "      <td>119.1</td>\n",
       "      <td>994.4</td>\n",
       "      <td>70.6</td>\n",
       "      <td>70.2</td>\n",
       "    </tr>\n",
       "    <tr>\n",
       "      <th>15</th>\n",
       "      <td>2013</td>\n",
       "      <td>1567.3</td>\n",
       "      <td>150.5</td>\n",
       "      <td>1109.7</td>\n",
       "      <td>115.3</td>\n",
       "      <td>70.8</td>\n",
       "    </tr>\n",
       "    <tr>\n",
       "      <th>16</th>\n",
       "      <td>2014</td>\n",
       "      <td>1748.2</td>\n",
       "      <td>180.9</td>\n",
       "      <td>1204.4</td>\n",
       "      <td>94.7</td>\n",
       "      <td>68.9</td>\n",
       "    </tr>\n",
       "    <tr>\n",
       "      <th>17</th>\n",
       "      <td>2015</td>\n",
       "      <td>1953.6</td>\n",
       "      <td>205.4</td>\n",
       "      <td>1341.2</td>\n",
       "      <td>136.8</td>\n",
       "      <td>68.7</td>\n",
       "    </tr>\n",
       "  </tbody>\n",
       "</table>\n",
       "</div>"
      ],
      "text/plain": [
       "   Yıllar    GSYH GSYH Artış  Özel Tüketim Tüketim Artışı  Tüketim/GSYH (%)\n",
       "0    1998    70.2          -          46.7              -              66.5\n",
       "1    1999   104.6       34.4          71.6           24.9              68.5\n",
       "2    2000   166.7       62.1         117.5           45.9              70.5\n",
       "3    2001   240.2       73.5         164.3           46.8              68.4\n",
       "4    2002   350.5      110.3         238.4           74.1              68.0\n",
       "5    2003   454.8      104.3         324.0           85.6              71.2\n",
       "6    2004   559.0      104.2         398.6           74.6              71.3\n",
       "7    2005   648.9       89.9         465.4           66.8              71.7\n",
       "8    2006   758.4      109.5         534.8           69.4              70.5\n",
       "9    2007   843.2       84.8         601.2           66.4              71.3\n",
       "10   2008   950.5      107.3         663.9           62.7              69.8\n",
       "11   2009   952.6        2.1         680.8           16.9              71.5\n",
       "12   2010  1098.8      146.2         787.8            107              71.7\n",
       "13   2011  1297.7      198.9         923.8            136              71.2\n",
       "14   2012  1416.8      119.1         994.4           70.6              70.2\n",
       "15   2013  1567.3      150.5        1109.7          115.3              70.8\n",
       "16   2014  1748.2      180.9        1204.4           94.7              68.9\n",
       "17   2015  1953.6      205.4        1341.2          136.8              68.7"
      ]
     },
     "execution_count": 7,
     "metadata": {},
     "output_type": "execute_result"
    }
   ],
   "source": [
    "df = pd.read_excel(\"GSYH-Tüketim.xlsx\")\n",
    "df=df.drop(18)\n",
    "df"
   ]
  },
  {
   "cell_type": "markdown",
   "id": "0a31d8d0",
   "metadata": {},
   "source": [
    "### Veri seti incelendiğinde regresyon analizi yapmadan önce veri setindeki sütunlar arasındaki korelasyona bakıldığında aşağıdaki korelasyon sonuçları görülür."
   ]
  },
  {
   "cell_type": "code",
   "execution_count": 8,
   "id": "ace18b35",
   "metadata": {},
   "outputs": [
    {
     "data": {
      "text/html": [
       "<div>\n",
       "<style scoped>\n",
       "    .dataframe tbody tr th:only-of-type {\n",
       "        vertical-align: middle;\n",
       "    }\n",
       "\n",
       "    .dataframe tbody tr th {\n",
       "        vertical-align: top;\n",
       "    }\n",
       "\n",
       "    .dataframe thead th {\n",
       "        text-align: right;\n",
       "    }\n",
       "</style>\n",
       "<table border=\"1\" class=\"dataframe\">\n",
       "  <thead>\n",
       "    <tr style=\"text-align: right;\">\n",
       "      <th></th>\n",
       "      <th>GSYH</th>\n",
       "      <th>Özel Tüketim</th>\n",
       "      <th>Tüketim/GSYH (%)</th>\n",
       "    </tr>\n",
       "  </thead>\n",
       "  <tbody>\n",
       "    <tr>\n",
       "      <th>GSYH</th>\n",
       "      <td>1.000000</td>\n",
       "      <td>0.999591</td>\n",
       "      <td>0.240054</td>\n",
       "    </tr>\n",
       "    <tr>\n",
       "      <th>Özel Tüketim</th>\n",
       "      <td>0.999591</td>\n",
       "      <td>1.000000</td>\n",
       "      <td>0.262237</td>\n",
       "    </tr>\n",
       "    <tr>\n",
       "      <th>Tüketim/GSYH (%)</th>\n",
       "      <td>0.240054</td>\n",
       "      <td>0.262237</td>\n",
       "      <td>1.000000</td>\n",
       "    </tr>\n",
       "  </tbody>\n",
       "</table>\n",
       "</div>"
      ],
      "text/plain": [
       "                      GSYH  Özel Tüketim  Tüketim/GSYH (%)\n",
       "GSYH              1.000000      0.999591          0.240054\n",
       "Özel Tüketim      0.999591      1.000000          0.262237\n",
       "Tüketim/GSYH (%)  0.240054      0.262237          1.000000"
      ]
     },
     "execution_count": 8,
     "metadata": {},
     "output_type": "execute_result"
    }
   ],
   "source": [
    "df.corr()"
   ]
  },
  {
   "cell_type": "markdown",
   "id": "ccabbd2b",
   "metadata": {},
   "source": [
    "### GSYH (gelir) ve Özel Tüketim arasında kuvvetli ve pozitif yönlü korelasyon olduğu görülmektedir.Bu ilişki görselleştirildiğinde aşağıdaki sonuç elde edilir.\n"
   ]
  },
  {
   "cell_type": "code",
   "execution_count": 9,
   "id": "dda00cf0",
   "metadata": {},
   "outputs": [
    {
     "data": {
      "image/png": "[encoded data removed]",
      "text/plain": [
       "<Figure size 432x288 with 1 Axes>"
      ]
     },
     "metadata": {
      "needs_background": "light"
     },
     "output_type": "display_data"
    }
   ],
   "source": [
    "sns.scatterplot(x = df.GSYH, y = df[\"Özel Tüketim\"]);"
   ]
  },
  {
   "cell_type": "markdown",
   "id": "95d9e840",
   "metadata": {},
   "source": [
    "# Veri seti regresyon modeli öncesinde seçili değişkenlerimizden oluşan model haline getirildiğinde;"
   ]
  },
  {
   "cell_type": "code",
   "execution_count": 10,
   "id": "1e3f10f9",
   "metadata": {},
   "outputs": [],
   "source": [
    "X = df.GSYH\n",
    "y = df[\"Özel Tüketim\"]\n",
    "# Burada tüketim gelirin bir fonksiyonu olduğundan ve tahmin etmek istenilen değişken(bağımlı değişken) Özel Tüketim olduğundan\n",
    "# atamalar bu şekilde yapılmıştır."
   ]
  },
  {
   "cell_type": "markdown",
   "id": "888ce585",
   "metadata": {},
   "source": [
    "### Burada iki değişken olduğu için Basit Regresyon Modeli yeterli olacaktır.\n",
    "### y = β0 + β1X bu regresyon modelinin notasyonudur.\n",
    "### β0 GSYH 0 olduğunda Tüketimin alacağı değerdir. Yani bağımsız Tüketim harcamaları\n",
    "### β1 ise bağımlı tüketim harcamalarıdır."
   ]
  },
  {
   "cell_type": "markdown",
   "id": "875b0102",
   "metadata": {},
   "source": [
    "### β0  ve  β1 değerleri hesaplandığında aşağıdaki sonuç bulunur"
   ]
  },
  {
   "cell_type": "code",
   "execution_count": 11,
   "id": "45b68a87",
   "metadata": {},
   "outputs": [
    {
     "data": {
      "text/plain": [
       "array([0.69622488, 5.46743901])"
      ]
     },
     "execution_count": 11,
     "metadata": {},
     "output_type": "execute_result"
    }
   ],
   "source": [
    "np.polyfit(X, y, deg=1)"
   ]
  },
  {
   "cell_type": "code",
   "execution_count": 12,
   "id": "1e7b968d",
   "metadata": {},
   "outputs": [
    {
     "data": {
      "text/plain": [
       "0.999181365350487"
      ]
     },
     "execution_count": 12,
     "metadata": {},
     "output_type": "execute_result"
    }
   ],
   "source": [
    "Rkare = (X.corr(y))**2\n",
    "Rkare\n",
    "# Modelin anlamlılık derecesi"
   ]
  },
  {
   "cell_type": "code",
   "execution_count": 13,
   "id": "af2782a2",
   "metadata": {},
   "outputs": [],
   "source": [
    "b1 = np.polyfit(X, y, deg=1)[0]\n",
    "b0 = np.polyfit(X, y, deg=1)[1]"
   ]
  },
  {
   "cell_type": "markdown",
   "id": "5e453d1d",
   "metadata": {},
   "source": [
    "### Modele dayalı bir tahmin değişkeni oluşturuldu."
   ]
  },
  {
   "cell_type": "code",
   "execution_count": 14,
   "id": "023e42be",
   "metadata": {},
   "outputs": [],
   "source": [
    "tahmin = b1*X + b0 "
   ]
  },
  {
   "cell_type": "code",
   "execution_count": 15,
   "id": "f95b3296",
   "metadata": {},
   "outputs": [],
   "source": [
    "test = {\"Asıl Tüketim \": y, \"Tahmin Tüketim\": tahmin, \"hata\":y-tahmin}"
   ]
  },
  {
   "cell_type": "code",
   "execution_count": 16,
   "id": "64f9fcb1",
   "metadata": {},
   "outputs": [
    {
     "data": {
      "text/html": [
       "<div>\n",
       "<style scoped>\n",
       "    .dataframe tbody tr th:only-of-type {\n",
       "        vertical-align: middle;\n",
       "    }\n",
       "\n",
       "    .dataframe tbody tr th {\n",
       "        vertical-align: top;\n",
       "    }\n",
       "\n",
       "    .dataframe thead th {\n",
       "        text-align: right;\n",
       "    }\n",
       "</style>\n",
       "<table border=\"1\" class=\"dataframe\">\n",
       "  <thead>\n",
       "    <tr style=\"text-align: right;\">\n",
       "      <th></th>\n",
       "      <th>Asıl Tüketim</th>\n",
       "      <th>Tahmin Tüketim</th>\n",
       "      <th>hata</th>\n",
       "    </tr>\n",
       "  </thead>\n",
       "  <tbody>\n",
       "    <tr>\n",
       "      <th>0</th>\n",
       "      <td>46.7</td>\n",
       "      <td>54.342425</td>\n",
       "      <td>-7.642425</td>\n",
       "    </tr>\n",
       "    <tr>\n",
       "      <th>1</th>\n",
       "      <td>71.6</td>\n",
       "      <td>78.292561</td>\n",
       "      <td>-6.692561</td>\n",
       "    </tr>\n",
       "    <tr>\n",
       "      <th>2</th>\n",
       "      <td>117.5</td>\n",
       "      <td>121.528126</td>\n",
       "      <td>-4.028126</td>\n",
       "    </tr>\n",
       "    <tr>\n",
       "      <th>3</th>\n",
       "      <td>164.3</td>\n",
       "      <td>172.700655</td>\n",
       "      <td>-8.400655</td>\n",
       "    </tr>\n",
       "    <tr>\n",
       "      <th>4</th>\n",
       "      <td>238.4</td>\n",
       "      <td>249.494259</td>\n",
       "      <td>-11.094259</td>\n",
       "    </tr>\n",
       "    <tr>\n",
       "      <th>5</th>\n",
       "      <td>324.0</td>\n",
       "      <td>322.110514</td>\n",
       "      <td>1.889486</td>\n",
       "    </tr>\n",
       "    <tr>\n",
       "      <th>6</th>\n",
       "      <td>398.6</td>\n",
       "      <td>394.657146</td>\n",
       "      <td>3.942854</td>\n",
       "    </tr>\n",
       "    <tr>\n",
       "      <th>7</th>\n",
       "      <td>465.4</td>\n",
       "      <td>457.247762</td>\n",
       "      <td>8.152238</td>\n",
       "    </tr>\n",
       "    <tr>\n",
       "      <th>8</th>\n",
       "      <td>534.8</td>\n",
       "      <td>533.484386</td>\n",
       "      <td>1.315614</td>\n",
       "    </tr>\n",
       "    <tr>\n",
       "      <th>9</th>\n",
       "      <td>601.2</td>\n",
       "      <td>592.524256</td>\n",
       "      <td>8.675744</td>\n",
       "    </tr>\n",
       "    <tr>\n",
       "      <th>10</th>\n",
       "      <td>663.9</td>\n",
       "      <td>667.229186</td>\n",
       "      <td>-3.329186</td>\n",
       "    </tr>\n",
       "    <tr>\n",
       "      <th>11</th>\n",
       "      <td>680.8</td>\n",
       "      <td>668.691258</td>\n",
       "      <td>12.108742</td>\n",
       "    </tr>\n",
       "    <tr>\n",
       "      <th>12</th>\n",
       "      <td>787.8</td>\n",
       "      <td>770.479335</td>\n",
       "      <td>17.320665</td>\n",
       "    </tr>\n",
       "    <tr>\n",
       "      <th>13</th>\n",
       "      <td>923.8</td>\n",
       "      <td>908.958463</td>\n",
       "      <td>14.841537</td>\n",
       "    </tr>\n",
       "    <tr>\n",
       "      <th>14</th>\n",
       "      <td>994.4</td>\n",
       "      <td>991.878846</td>\n",
       "      <td>2.521154</td>\n",
       "    </tr>\n",
       "    <tr>\n",
       "      <th>15</th>\n",
       "      <td>1109.7</td>\n",
       "      <td>1096.660690</td>\n",
       "      <td>13.039310</td>\n",
       "    </tr>\n",
       "    <tr>\n",
       "      <th>16</th>\n",
       "      <td>1204.4</td>\n",
       "      <td>1222.607771</td>\n",
       "      <td>-18.207771</td>\n",
       "    </tr>\n",
       "    <tr>\n",
       "      <th>17</th>\n",
       "      <td>1341.2</td>\n",
       "      <td>1365.612361</td>\n",
       "      <td>-24.412361</td>\n",
       "    </tr>\n",
       "  </tbody>\n",
       "</table>\n",
       "</div>"
      ],
      "text/plain": [
       "    Asıl Tüketim   Tahmin Tüketim       hata\n",
       "0            46.7       54.342425  -7.642425\n",
       "1            71.6       78.292561  -6.692561\n",
       "2           117.5      121.528126  -4.028126\n",
       "3           164.3      172.700655  -8.400655\n",
       "4           238.4      249.494259 -11.094259\n",
       "5           324.0      322.110514   1.889486\n",
       "6           398.6      394.657146   3.942854\n",
       "7           465.4      457.247762   8.152238\n",
       "8           534.8      533.484386   1.315614\n",
       "9           601.2      592.524256   8.675744\n",
       "10          663.9      667.229186  -3.329186\n",
       "11          680.8      668.691258  12.108742\n",
       "12          787.8      770.479335  17.320665\n",
       "13          923.8      908.958463  14.841537\n",
       "14          994.4      991.878846   2.521154\n",
       "15         1109.7     1096.660690  13.039310\n",
       "16         1204.4     1222.607771 -18.207771\n",
       "17         1341.2     1365.612361 -24.412361"
      ]
     },
     "execution_count": 16,
     "metadata": {},
     "output_type": "execute_result"
    }
   ],
   "source": [
    "df_2 = pd.DataFrame(test)\n",
    "df_2"
   ]
  },
  {
   "cell_type": "code",
   "execution_count": 18,
   "id": "aaa72100",
   "metadata": {},
   "outputs": [
    {
     "data": {
      "text/html": [
       "<div>\n",
       "<style scoped>\n",
       "    .dataframe tbody tr th:only-of-type {\n",
       "        vertical-align: middle;\n",
       "    }\n",
       "\n",
       "    .dataframe tbody tr th {\n",
       "        vertical-align: top;\n",
       "    }\n",
       "\n",
       "    .dataframe thead th {\n",
       "        text-align: right;\n",
       "    }\n",
       "</style>\n",
       "<table border=\"1\" class=\"dataframe\">\n",
       "  <thead>\n",
       "    <tr style=\"text-align: right;\">\n",
       "      <th></th>\n",
       "      <th>X</th>\n",
       "      <th>y</th>\n",
       "    </tr>\n",
       "  </thead>\n",
       "  <tbody>\n",
       "    <tr>\n",
       "      <th>0</th>\n",
       "      <td>70.2</td>\n",
       "      <td>46.7</td>\n",
       "    </tr>\n",
       "    <tr>\n",
       "      <th>1</th>\n",
       "      <td>104.6</td>\n",
       "      <td>71.6</td>\n",
       "    </tr>\n",
       "    <tr>\n",
       "      <th>2</th>\n",
       "      <td>166.7</td>\n",
       "      <td>117.5</td>\n",
       "    </tr>\n",
       "    <tr>\n",
       "      <th>3</th>\n",
       "      <td>240.2</td>\n",
       "      <td>164.3</td>\n",
       "    </tr>\n",
       "    <tr>\n",
       "      <th>4</th>\n",
       "      <td>350.5</td>\n",
       "      <td>238.4</td>\n",
       "    </tr>\n",
       "    <tr>\n",
       "      <th>5</th>\n",
       "      <td>454.8</td>\n",
       "      <td>324.0</td>\n",
       "    </tr>\n",
       "    <tr>\n",
       "      <th>6</th>\n",
       "      <td>559.0</td>\n",
       "      <td>398.6</td>\n",
       "    </tr>\n",
       "    <tr>\n",
       "      <th>7</th>\n",
       "      <td>648.9</td>\n",
       "      <td>465.4</td>\n",
       "    </tr>\n",
       "    <tr>\n",
       "      <th>8</th>\n",
       "      <td>758.4</td>\n",
       "      <td>534.8</td>\n",
       "    </tr>\n",
       "    <tr>\n",
       "      <th>9</th>\n",
       "      <td>843.2</td>\n",
       "      <td>601.2</td>\n",
       "    </tr>\n",
       "    <tr>\n",
       "      <th>10</th>\n",
       "      <td>950.5</td>\n",
       "      <td>663.9</td>\n",
       "    </tr>\n",
       "    <tr>\n",
       "      <th>11</th>\n",
       "      <td>952.6</td>\n",
       "      <td>680.8</td>\n",
       "    </tr>\n",
       "    <tr>\n",
       "      <th>12</th>\n",
       "      <td>1098.8</td>\n",
       "      <td>787.8</td>\n",
       "    </tr>\n",
       "    <tr>\n",
       "      <th>13</th>\n",
       "      <td>1297.7</td>\n",
       "      <td>923.8</td>\n",
       "    </tr>\n",
       "    <tr>\n",
       "      <th>14</th>\n",
       "      <td>1416.8</td>\n",
       "      <td>994.4</td>\n",
       "    </tr>\n",
       "    <tr>\n",
       "      <th>15</th>\n",
       "      <td>1567.3</td>\n",
       "      <td>1109.7</td>\n",
       "    </tr>\n",
       "    <tr>\n",
       "      <th>16</th>\n",
       "      <td>1748.2</td>\n",
       "      <td>1204.4</td>\n",
       "    </tr>\n",
       "    <tr>\n",
       "      <th>17</th>\n",
       "      <td>1953.6</td>\n",
       "      <td>1341.2</td>\n",
       "    </tr>\n",
       "  </tbody>\n",
       "</table>\n",
       "</div>"
      ],
      "text/plain": [
       "         X       y\n",
       "0     70.2    46.7\n",
       "1    104.6    71.6\n",
       "2    166.7   117.5\n",
       "3    240.2   164.3\n",
       "4    350.5   238.4\n",
       "5    454.8   324.0\n",
       "6    559.0   398.6\n",
       "7    648.9   465.4\n",
       "8    758.4   534.8\n",
       "9    843.2   601.2\n",
       "10   950.5   663.9\n",
       "11   952.6   680.8\n",
       "12  1098.8   787.8\n",
       "13  1297.7   923.8\n",
       "14  1416.8   994.4\n",
       "15  1567.3  1109.7\n",
       "16  1748.2  1204.4\n",
       "17  1953.6  1341.2"
      ]
     },
     "execution_count": 18,
     "metadata": {},
     "output_type": "execute_result"
    }
   ],
   "source": [
    "dfmodel = pd.DataFrame({\"X\":X, \"y\":y})\n",
    "dfmodel"
   ]
  },
  {
   "cell_type": "markdown",
   "id": "b0b207bb",
   "metadata": {},
   "source": [
    "### Analiz Tablosu"
   ]
  },
  {
   "cell_type": "code",
   "execution_count": 23,
   "id": "06f12923",
   "metadata": {},
   "outputs": [],
   "source": [
    "\n",
    "model = ols( \"y ~X\", dfmodel).fit()"
   ]
  },
  {
   "cell_type": "code",
   "execution_count": 24,
   "id": "634a807c",
   "metadata": {},
   "outputs": [
    {
     "name": "stdout",
     "output_type": "stream",
     "text": [
      "                            OLS Regression Results                            \n",
      "==============================================================================\n",
      "Dep. Variable:                      y   R-squared:                       0.999\n",
      "Model:                            OLS   Adj. R-squared:                  0.999\n",
      "Method:                 Least Squares   F-statistic:                 1.953e+04\n",
      "Date:                Tue, 21 Sep 2021   Prob (F-statistic):           3.96e-26\n",
      "Time:                        15:29:59   Log-Likelihood:                -69.026\n",
      "No. Observations:                  18   AIC:                             142.1\n",
      "Df Residuals:                      16   BIC:                             143.8\n",
      "Df Model:                           1                                         \n",
      "Covariance Type:            nonrobust                                         \n",
      "==============================================================================\n",
      "                 coef    std err          t      P>|t|      [0.025      0.975]\n",
      "------------------------------------------------------------------------------\n",
      "Intercept      5.4674      5.049      1.083      0.295      -5.237      16.172\n",
      "X              0.6962      0.005    139.745      0.000       0.686       0.707\n",
      "==============================================================================\n",
      "Omnibus:                        0.687   Durbin-Watson:                   0.894\n",
      "Prob(Omnibus):                  0.709   Jarque-Bera (JB):                0.674\n",
      "Skew:                          -0.382   Prob(JB):                        0.714\n",
      "Kurtosis:                       2.438   Cond. No.                     1.83e+03\n",
      "==============================================================================\n",
      "\n",
      "Notes:\n",
      "[1] Standard Errors assume that the covariance matrix of the errors is correctly specified.\n",
      "[2] The condition number is large, 1.83e+03. This might indicate that there are\n",
      "strong multicollinearity or other numerical problems.\n"
     ]
    },
    {
     "name": "stderr",
     "output_type": "stream",
     "text": [
      "C:\\Users\\CASPER\\anaconda3\\lib\\site-packages\\scipy\\stats\\stats.py:1603: UserWarning: kurtosistest only valid for n>=20 ... continuing anyway, n=18\n",
      "  warnings.warn(\"kurtosistest only valid for n>=20 ... continuing \"\n"
     ]
    }
   ],
   "source": [
    "print(model.summary())"
   ]
  },
  {
   "cell_type": "markdown",
   "id": "1db2882f",
   "metadata": {},
   "source": [
    "### Parametreler iktisat teorisine uygundur. Çünkü tüketim fonksiyonu, Keynes'e göre  makroekonomik düzeydeki harcamaların yani GSYH nin bir fonksiyonudur. Hem modelde hem de veri setinde gelir arttıkça tüketimin artması bu teoriyi desteklemektedir."
   ]
  },
  {
   "cell_type": "markdown",
   "id": "e5341f53",
   "metadata": {},
   "source": [
    "#### Hata terimlerinin dağılımları incelendiğinde normal dağılıma uydukları görülmektedir."
   ]
  },
  {
   "cell_type": "code",
   "execution_count": 32,
   "id": "23538d0d",
   "metadata": {},
   "outputs": [
    {
     "data": {
      "text/plain": [
       "<AxesSubplot:xlabel='hata', ylabel='Count'>"
      ]
     },
     "execution_count": 32,
     "metadata": {},
     "output_type": "execute_result"
    },
    {
     "data": {
      "image/png": "[encoded data removed]",
      "text/plain": [
       "<Figure size 432x288 with 1 Axes>"
      ]
     },
     "metadata": {
      "needs_background": "light"
     },
     "output_type": "display_data"
    }
   ],
   "source": [
    "sns.histplot(df_2.hata,kde= True, bins=30)"
   ]
  },
  {
   "cell_type": "code",
   "execution_count": 38,
   "id": "a64d2a9e",
   "metadata": {},
   "outputs": [
    {
     "data": {
      "image/png": "[encoded data removed]",
      "text/plain": [
       "<Figure size 432x288 with 1 Axes>"
      ]
     },
     "metadata": {
      "needs_background": "light"
     },
     "output_type": "display_data"
    }
   ],
   "source": [
    "stats.probplot(df_2.hata, dist= \"norm\", plot= pylab );"
   ]
  },
  {
   "cell_type": "code",
   "execution_count": null,
   "id": "8082e456",
   "metadata": {},
   "outputs": [],
   "source": []
  }
 ],
 "metadata": {
  "kernelspec": {
   "display_name": "Python 3",
   "language": "python",
   "name": "python3"
  },
  "language_info": {
   "codemirror_mode": {
    "name": "ipython",
    "version": 3
   },
   "file_extension": ".py",
   "mimetype": "text/x-python",
   "name": "python",
   "nbconvert_exporter": "python",
   "pygments_lexer": "ipython3",
   "version": "3.8.8"
  }
 },
 "nbformat": 4,
 "nbformat_minor": 5
}

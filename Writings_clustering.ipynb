{
  "cells": [
    {
      "cell_type": "markdown",
      "metadata": {
        "id": "view-in-github",
        "colab_type": "text"
      },
      "source": [
        "<a href=\"https://colab.research.google.com/github/mehmetsar/Analiz/blob/main/Writings_clustering.ipynb\" target=\"_parent\"><img src=\"https://colab.research.google.com/assets/colab-badge.svg\" alt=\"Open In Colab\"/></a>"
      ]
    },
    {
      "cell_type": "code",
      "execution_count": 2,
      "metadata": {
        "id": "7GQ5ChA0K2Fr",
        "colab": {
          "base_uri": "https://localhost:8080/"
        },
        "outputId": "521854fd-30ae-4a40-dfcc-a227aa604ce9"
      },
      "outputs": [
        {
          "output_type": "stream",
          "name": "stdout",
          "text": [
            "Reading package lists... Done\n",
            "Building dependency tree       \n",
            "Reading state information... Done\n",
            "The following package was automatically installed and is no longer required:\n",
            "  libnvidia-common-460\n",
            "Use 'apt autoremove' to remove it.\n",
            "The following packages will be REMOVED:\n",
            "  libcudnn8-dev\n",
            "The following held packages will be changed:\n",
            "  libcudnn8\n",
            "The following packages will be upgraded:\n",
            "  libcudnn8\n",
            "1 upgraded, 0 newly installed, 1 to remove and 18 not upgraded.\n",
            "Need to get 420 MB of archives.\n",
            "After this operation, 3,369 MB disk space will be freed.\n",
            "Get:1 https://developer.download.nvidia.com/compute/cuda/repos/ubuntu1804/x86_64  libcudnn8 8.4.1.50-1+cuda11.6 [420 MB]\n",
            "Fetched 420 MB in 8s (53.5 MB/s)\n",
            "(Reading database ... 155676 files and directories currently installed.)\n",
            "Removing libcudnn8-dev (8.0.5.39-1+cuda11.1) ...\n",
            "(Reading database ... 155654 files and directories currently installed.)\n",
            "Preparing to unpack .../libcudnn8_8.4.1.50-1+cuda11.6_amd64.deb ...\n",
            "Unpacking libcudnn8 (8.4.1.50-1+cuda11.6) over (8.0.5.39-1+cuda11.1) ...\n",
            "Setting up libcudnn8 (8.4.1.50-1+cuda11.6) ...\n"
          ]
        }
      ],
      "source": [
        "# Install this package to use Colab's GPU for training\n",
        "!apt install --allow-change-held-packages libcudnn8=8.4.1.50-1+cuda11.6"
      ]
    },
    {
      "cell_type": "code",
      "execution_count": 1,
      "metadata": {
        "id": "GIrXJG0CHC0A"
      },
      "outputs": [],
      "source": [
        "# for loading/processing the images  \n",
        "from keras.preprocessing.image import load_img \n",
        "from keras.preprocessing.image import img_to_array \n",
        "from keras.applications.vgg16 import preprocess_input \n",
        "\n",
        "# models \n",
        "from keras.applications.vgg16 import VGG16 \n",
        "from keras.models import Model\n",
        "\n",
        "# clustering and dimension reduction\n",
        "from sklearn.cluster import KMeans\n",
        "from sklearn.decomposition import PCA\n",
        "\n",
        "# for everything else\n",
        "import os\n",
        "import numpy as np\n",
        "import matplotlib.pyplot as plt\n",
        "from random import randint\n",
        "import pandas as pd\n",
        "import pickle\n"
      ]
    },
    {
      "cell_type": "code",
      "source": [
        "#Loading data\n",
        "\n",
        "path = r\"/content/sample_data/Clusters\"\n",
        "# change the working directory to the path where the images are located\n",
        "os.chdir(path)\n",
        "\n",
        "# this list holds all the image filename\n",
        "writings = []\n",
        "\n",
        "# creates a ScandirIterator aliased as files\n",
        "with os.scandir(path) as files:\n",
        "  # loops through each file in the directory\n",
        "    for file in files:\n",
        "        if file.name.endswith('.png'):\n",
        "          # adds only the image files to the flowers list\n",
        "            writings.append(file.name)\n",
        "    "
      ],
      "metadata": {
        "id": "8dlLof60b8NQ"
      },
      "execution_count": 3,
      "outputs": []
    },
    {
      "cell_type": "code",
      "source": [
        "print(writings[:10])"
      ],
      "metadata": {
        "colab": {
          "base_uri": "https://localhost:8080/"
        },
        "id": "2KDCKM-Qb8Xl",
        "outputId": "7e4002c1-19b6-436f-c5a0-24be00b590b8"
      },
      "execution_count": 4,
      "outputs": [
        {
          "output_type": "stream",
          "name": "stdout",
          "text": [
            "['g06-011c-s00-01.png', 'g06-011e-s02-00.png', 'g06-011l-s01-02.png', 'g06-011m-s05-01.png', 'g06-011j-s00-00.png', 'g06-011e-s05-02.png', 'g06-011i-s05-02.png', 'g06-031n-s04-07.png', 'g06-011b-s01-00.png', 'g06-011n-s05-00.png']\n"
          ]
        }
      ]
    },
    {
      "cell_type": "code",
      "source": [
        "# load the image as a 224x224 array\n",
        "img = load_img(writings[0], target_size=(224,224))\n",
        "# convert from 'PIL.Image.Image' to numpy array\n",
        "img = np.array(img)\n",
        "\n",
        "print(img.shape)\n",
        "(224, 224, 3)\n"
      ],
      "metadata": {
        "id": "sN4IpYBtcijM",
        "outputId": "c3ae0e0c-ed50-47b9-fdab-656592a5482d",
        "colab": {
          "base_uri": "https://localhost:8080/"
        }
      },
      "execution_count": 6,
      "outputs": [
        {
          "output_type": "stream",
          "name": "stdout",
          "text": [
            "(224, 224, 3)\n"
          ]
        },
        {
          "output_type": "execute_result",
          "data": {
            "text/plain": [
              "(224, 224, 3)"
            ]
          },
          "metadata": {},
          "execution_count": 6
        }
      ]
    },
    {
      "cell_type": "code",
      "source": [
        "reshaped_img = img.reshape(1,224,224,3)\n",
        "print(reshaped_img.shape)\n",
        "x = preprocess_input(reshaped_img)\n",
        "\n"
      ],
      "metadata": {
        "id": "PLc2PYZHcnZ0",
        "outputId": "898dd0df-043f-4315-aa42-5c1eb8b80da4",
        "colab": {
          "base_uri": "https://localhost:8080/"
        }
      },
      "execution_count": 8,
      "outputs": [
        {
          "output_type": "stream",
          "name": "stdout",
          "text": [
            "(1, 224, 224, 3)\n"
          ]
        }
      ]
    },
    {
      "cell_type": "code",
      "source": [
        "# load model\n",
        "model = VGG16()\n",
        "# remove the output layer\n",
        "model = Model(inputs=model.inputs, outputs=model.layers[-2].output)"
      ],
      "metadata": {
        "id": "FwwB0TXccnmI",
        "outputId": "e15b7bbc-b433-465f-f84f-84426f4f6b6d",
        "colab": {
          "base_uri": "https://localhost:8080/"
        }
      },
      "execution_count": 9,
      "outputs": [
        {
          "output_type": "stream",
          "name": "stdout",
          "text": [
            "Downloading data from https://storage.googleapis.com/tensorflow/keras-applications/vgg16/vgg16_weights_tf_dim_ordering_tf_kernels.h5\n",
            "553467904/553467096 [==============================] - 5s 0us/step\n",
            "553476096/553467096 [==============================] - 5s 0us/step\n"
          ]
        }
      ]
    },
    {
      "cell_type": "code",
      "source": [
        "features = model.predict(image)\n",
        "print(features.shape)"
      ],
      "metadata": {
        "id": "sYINJr5kcnwA",
        "outputId": "7c85f599-c357-4409-9775-e079e44a3364",
        "colab": {
          "base_uri": "https://localhost:8080/",
          "height": 189
        }
      },
      "execution_count": 10,
      "outputs": [
        {
          "output_type": "error",
          "ename": "NameError",
          "evalue": "ignored",
          "traceback": [
            "\u001b[0;31m---------------------------------------------------------------------------\u001b[0m",
            "\u001b[0;31mNameError\u001b[0m                                 Traceback (most recent call last)",
            "\u001b[0;32m<ipython-input-10-8414f1662d13>\u001b[0m in \u001b[0;36m<module>\u001b[0;34m\u001b[0m\n\u001b[0;32m----> 1\u001b[0;31m \u001b[0mfeatures\u001b[0m \u001b[0;34m=\u001b[0m \u001b[0mmodel\u001b[0m\u001b[0;34m.\u001b[0m\u001b[0mpredict\u001b[0m\u001b[0;34m(\u001b[0m\u001b[0mimage\u001b[0m\u001b[0;34m)\u001b[0m\u001b[0;34m\u001b[0m\u001b[0;34m\u001b[0m\u001b[0m\n\u001b[0m\u001b[1;32m      2\u001b[0m \u001b[0mprint\u001b[0m\u001b[0;34m(\u001b[0m\u001b[0mfeatures\u001b[0m\u001b[0;34m.\u001b[0m\u001b[0mshape\u001b[0m\u001b[0;34m)\u001b[0m\u001b[0;34m\u001b[0m\u001b[0;34m\u001b[0m\u001b[0m\n",
            "\u001b[0;31mNameError\u001b[0m: name 'image' is not defined"
          ]
        }
      ]
    },
    {
      "cell_type": "code",
      "source": [
        "model = VGG16()\n",
        "model = Model(inputs = model.inputs, outputs = model.layers[-2].output)\n",
        "\n",
        "def extract_features(file, model):\n",
        "    # load the image as a 224x224 array\n",
        "    img = load_img(file, target_size=(224,224))\n",
        "    # convert from 'PIL.Image.Image' to numpy array\n",
        "    img = np.array(img) \n",
        "    # reshape the data for the model reshape(num_of_samples, dim 1, dim 2, channels)\n",
        "    reshaped_img = img.reshape(1,224,224,3) \n",
        "    # prepare image for model\n",
        "    imgx = preprocess_input(reshaped_img)\n",
        "    # get the feature vector\n",
        "    features = model.predict(imgx, use_multiprocessing=True)\n",
        "    return features"
      ],
      "metadata": {
        "id": "W3Juwyt3dFjq"
      },
      "execution_count": 11,
      "outputs": []
    },
    {
      "cell_type": "code",
      "source": [
        "data = {}\n",
        "p = r\"/content/sample_data/\"\n",
        "\n",
        "# lop through each image in the dataset\n",
        "for writing in writings:\n",
        "    # try to extract the features and update the dictionary\n",
        "    try:\n",
        "        feat = extract_features(writing,model)\n",
        "        data[writing] = feat\n",
        "    # if something fails, save the extracted features as a pickle file (optional)\n",
        "    except:\n",
        "        with open(p,'wb') as file:\n",
        "            pickle.dump(data,file)\n",
        "          \n",
        " \n",
        "# get a list of the filenames\n",
        "filenames = np.array(list(data.keys()))\n",
        "\n",
        "# get a list of just the features\n",
        "feat = np.array(list(data.values()))\n",
        "feat.shape\n",
        "\n",
        "\n"
      ],
      "metadata": {
        "id": "0PB6-nkGd2Qv",
        "outputId": "8c7a23ca-ddb1-42c3-b8d4-344e0a663540",
        "colab": {
          "base_uri": "https://localhost:8080/"
        }
      },
      "execution_count": 15,
      "outputs": [
        {
          "output_type": "execute_result",
          "data": {
            "text/plain": [
              "(210, 4096)"
            ]
          },
          "metadata": {},
          "execution_count": 15
        }
      ]
    },
    {
      "cell_type": "code",
      "source": [
        "pca = PCA(n_components=100, random_state=22)\n",
        "pca.fit(feat)\n",
        "x = pca.transform(feat)"
      ],
      "metadata": {
        "id": "uRzSgrHbdjT6"
      },
      "execution_count": 16,
      "outputs": []
    },
    {
      "cell_type": "code",
      "source": [
        "kmeans = KMeans(n_clusters=3,random_state=22)\n",
        "kmeans.fit(x)"
      ],
      "metadata": {
        "id": "Vv5SiptAdFmt",
        "outputId": "937e713d-e040-4b78-f8d3-11019256e333",
        "colab": {
          "base_uri": "https://localhost:8080/"
        }
      },
      "execution_count": 17,
      "outputs": [
        {
          "output_type": "execute_result",
          "data": {
            "text/plain": [
              "KMeans(n_clusters=3, random_state=22)"
            ]
          },
          "metadata": {},
          "execution_count": 17
        }
      ]
    },
    {
      "cell_type": "code",
      "source": [
        "kmeans.labels_"
      ],
      "metadata": {
        "id": "DsSwXbncfDzS",
        "outputId": "5df61315-c7be-450d-ea36-dc2046e9e281",
        "colab": {
          "base_uri": "https://localhost:8080/"
        }
      },
      "execution_count": 19,
      "outputs": [
        {
          "output_type": "execute_result",
          "data": {
            "text/plain": [
              "array([0, 0, 2, 2, 2, 1, 1, 2, 1, 2, 0, 0, 1, 1, 2, 1, 1, 2, 2, 2, 2, 2,\n",
              "       2, 1, 1, 0, 2, 0, 2, 1, 0, 2, 1, 1, 2, 1, 1, 2, 2, 1, 2, 1, 2, 1,\n",
              "       0, 0, 2, 2, 2, 2, 2, 1, 1, 0, 1, 2, 2, 2, 1, 2, 2, 2, 2, 1, 1, 2,\n",
              "       1, 2, 2, 1, 1, 2, 0, 1, 0, 1, 1, 0, 0, 1, 1, 0, 1, 2, 1, 2, 1, 2,\n",
              "       1, 0, 0, 2, 2, 2, 1, 1, 2, 2, 1, 2, 2, 1, 1, 2, 0, 2, 1, 2, 2, 2,\n",
              "       1, 2, 1, 1, 1, 1, 2, 2, 2, 2, 1, 2, 2, 1, 2, 1, 2, 2, 1, 0, 2, 1,\n",
              "       1, 0, 2, 2, 0, 2, 1, 2, 1, 1, 1, 0, 2, 1, 1, 0, 1, 0, 2, 0, 0, 2,\n",
              "       0, 1, 2, 2, 2, 0, 1, 1, 1, 1, 0, 2, 2, 1, 1, 0, 0, 1, 1, 2, 0, 2,\n",
              "       1, 1, 0, 2, 2, 0, 2, 1, 2, 2, 1, 2, 0, 1, 1, 2, 0, 1, 1, 1, 0, 1,\n",
              "       0, 1, 2, 2, 0, 2, 2, 0, 2, 2, 1, 1, 0, 2, 0, 2, 2, 1, 1, 1, 0, 2,\n",
              "       1, 2, 2, 0, 2, 0, 0, 2, 2, 2, 1, 2, 2, 0, 2, 0, 2, 0, 1, 1, 2, 1,\n",
              "       1, 0, 0, 2, 2, 0, 1, 2, 2, 1, 0, 2, 2, 2, 2, 0, 0, 1, 0, 0, 2, 0,\n",
              "       1, 2, 1, 0, 2, 0, 1, 0, 2, 0, 1, 1, 2, 0, 1, 0], dtype=int32)"
            ]
          },
          "metadata": {},
          "execution_count": 19
        }
      ]
    },
    {
      "cell_type": "code",
      "source": [
        "# holds the cluster id and the images { id: [images] }\n",
        "groups = {}\n",
        "for file, cluster in zip(filenames,kmeans.labels_):\n",
        "    if cluster not in groups.keys():\n",
        "        groups[cluster] = []\n",
        "        groups[cluster].append(file)\n",
        "    else:\n",
        "        groups[cluster].append(file)"
      ],
      "metadata": {
        "id": "ns4d1kv3fF1j"
      },
      "execution_count": 20,
      "outputs": []
    },
    {
      "cell_type": "code",
      "source": [
        "groups[0]"
      ],
      "metadata": {
        "id": "WBMs18JWfUNW",
        "outputId": "26177bd0-1c0a-42c7-c106-b77243d034ad",
        "colab": {
          "base_uri": "https://localhost:8080/"
        }
      },
      "execution_count": 21,
      "outputs": [
        {
          "output_type": "execute_result",
          "data": {
            "text/plain": [
              "['g06-011c-s00-01.png',\n",
              " 'g06-011e-s02-00.png',\n",
              " 'g06-011m-s03-01.png',\n",
              " 'g06-011i-s02-00.png',\n",
              " 'g06-011l-s03-00.png',\n",
              " 'g06-031o-s03-00.png',\n",
              " 'g06-011n-s01-03.png',\n",
              " 'g06-011p-s03-00.png',\n",
              " 'g06-011j-s04-00.png',\n",
              " 'g06-011m-s04-01.png',\n",
              " 'g06-011m-s02-01.png',\n",
              " 'g06-011g-s01-00.png',\n",
              " 'g06-011l-s01-00.png',\n",
              " 'g06-011b-s05-00.png',\n",
              " 'g06-011l-s04-00.png',\n",
              " 'g06-031o-s03-02.png',\n",
              " 'g06-011j-s01-02.png',\n",
              " 'g06-011e-s05-00.png',\n",
              " 'g06-011c-s02-01.png',\n",
              " 'g06-031j-s04-07.png',\n",
              " 'g06-011n-s04-00.png',\n",
              " 'g06-011n-s04-02.png',\n",
              " 'g06-011h-s02-02.png',\n",
              " 'g06-011k-s01-02.png',\n",
              " 'g06-031n-s03-02.png',\n",
              " 'g06-031o-s04-00.png',\n",
              " 'g06-011i-s04-00.png',\n",
              " 'g06-011j-s03-00.png',\n",
              " 'g06-011p-s01-00.png',\n",
              " 'g06-011c-s04-01.png',\n",
              " 'g06-011f-s05-00.png',\n",
              " 'g06-011f-s03-01.png',\n",
              " 'g06-011o-s00-01.png',\n",
              " 'g06-011o-s03-01.png',\n",
              " 'g06-011i-s03-00.png',\n",
              " 'g06-011f-s02-01.png',\n",
              " 'g06-011k-s05-04.png',\n",
              " 'g06-011e-s03-00.png',\n",
              " 'g06-011l-s05-00.png',\n",
              " 'g06-011h-s03-01.png',\n",
              " 'g06-011l-s02-00.png',\n",
              " 'g06-031j-s02-01.png',\n",
              " 'g06-011j-s00-01.png',\n",
              " 'g06-011m-s00-01.png',\n",
              " 'g06-011o-s02-01.png',\n",
              " 'g06-031n-s01-01.png',\n",
              " 'g06-011e-s04-00.png',\n",
              " 'g06-011k-s02-01.png',\n",
              " 'g06-031j-s04-00.png',\n",
              " 'g06-011g-s05-03.png',\n",
              " 'g06-031j-s02-00.png',\n",
              " 'g06-031o-s01-01.png',\n",
              " 'g06-031n-s01-00.png',\n",
              " 'g06-031j-s01-00.png',\n",
              " 'g06-011p-s04-00.png',\n",
              " 'g06-011b-s02-00.png',\n",
              " 'g06-031b-s03-00.png',\n",
              " 'g06-011f-s01-00.png',\n",
              " 'g06-031b-s03-02.png',\n",
              " 'g06-011k-s05-00.png',\n",
              " 'g06-011o-s04-01.png',\n",
              " 'g06-031o-s01-00.png',\n",
              " 'g06-011c-s03-01.png',\n",
              " 'g06-031n-s03-00.png']"
            ]
          },
          "metadata": {},
          "execution_count": 21
        }
      ]
    },
    {
      "cell_type": "code",
      "source": [
        "import pandas as pd"
      ],
      "metadata": {
        "id": "hnT5lC9XfW-X"
      },
      "execution_count": 22,
      "outputs": []
    },
    {
      "cell_type": "code",
      "source": [],
      "metadata": {
        "id": "18NCelJWf0hS",
        "outputId": "b97ffa5a-5792-40bd-e757-b2d53ee1c027",
        "colab": {
          "base_uri": "https://localhost:8080/",
          "height": 321
        }
      },
      "execution_count": 27,
      "outputs": [
        {
          "output_type": "error",
          "ename": "ValueError",
          "evalue": "ignored",
          "traceback": [
            "\u001b[0;31m---------------------------------------------------------------------------\u001b[0m",
            "\u001b[0;31mValueError\u001b[0m                                Traceback (most recent call last)",
            "\u001b[0;32m<ipython-input-27-ca8e13c24956>\u001b[0m in \u001b[0;36m<module>\u001b[0;34m\u001b[0m\n\u001b[0;32m----> 1\u001b[0;31m \u001b[0mpd\u001b[0m\u001b[0;34m.\u001b[0m\u001b[0mDataFrame\u001b[0m\u001b[0;34m(\u001b[0m\u001b[0;34m{\u001b[0m\u001b[0;34m\"group1\"\u001b[0m\u001b[0;34m:\u001b[0m\u001b[0mgroups\u001b[0m\u001b[0;34m[\u001b[0m\u001b[0;36m0\u001b[0m\u001b[0;34m]\u001b[0m\u001b[0;34m,\u001b[0m\u001b[0;34m\"group2\"\u001b[0m\u001b[0;34m:\u001b[0m\u001b[0mgroups\u001b[0m\u001b[0;34m[\u001b[0m\u001b[0;36m1\u001b[0m\u001b[0;34m]\u001b[0m\u001b[0;34m,\u001b[0m\u001b[0;34m\"group3\"\u001b[0m\u001b[0;34m:\u001b[0m\u001b[0mgroups\u001b[0m\u001b[0;34m[\u001b[0m\u001b[0;36m2\u001b[0m\u001b[0;34m]\u001b[0m\u001b[0;34m}\u001b[0m\u001b[0;34m)\u001b[0m\u001b[0;34m.\u001b[0m\u001b[0mto_csv\u001b[0m\u001b[0;34m(\u001b[0m\u001b[0;34m'clusters.csv'\u001b[0m\u001b[0;34m)\u001b[0m\u001b[0;34m\u001b[0m\u001b[0;34m\u001b[0m\u001b[0m\n\u001b[0m",
            "\u001b[0;32m/usr/local/lib/python3.7/dist-packages/pandas/core/frame.py\u001b[0m in \u001b[0;36m__init__\u001b[0;34m(self, data, index, columns, dtype, copy)\u001b[0m\n\u001b[1;32m    612\u001b[0m         \u001b[0;32melif\u001b[0m \u001b[0misinstance\u001b[0m\u001b[0;34m(\u001b[0m\u001b[0mdata\u001b[0m\u001b[0;34m,\u001b[0m \u001b[0mdict\u001b[0m\u001b[0;34m)\u001b[0m\u001b[0;34m:\u001b[0m\u001b[0;34m\u001b[0m\u001b[0;34m\u001b[0m\u001b[0m\n\u001b[1;32m    613\u001b[0m             \u001b[0;31m# GH#38939 de facto copy defaults to False only in non-dict cases\u001b[0m\u001b[0;34m\u001b[0m\u001b[0;34m\u001b[0m\u001b[0;34m\u001b[0m\u001b[0m\n\u001b[0;32m--> 614\u001b[0;31m             \u001b[0mmgr\u001b[0m \u001b[0;34m=\u001b[0m \u001b[0mdict_to_mgr\u001b[0m\u001b[0;34m(\u001b[0m\u001b[0mdata\u001b[0m\u001b[0;34m,\u001b[0m \u001b[0mindex\u001b[0m\u001b[0;34m,\u001b[0m \u001b[0mcolumns\u001b[0m\u001b[0;34m,\u001b[0m \u001b[0mdtype\u001b[0m\u001b[0;34m=\u001b[0m\u001b[0mdtype\u001b[0m\u001b[0;34m,\u001b[0m \u001b[0mcopy\u001b[0m\u001b[0;34m=\u001b[0m\u001b[0mcopy\u001b[0m\u001b[0;34m,\u001b[0m \u001b[0mtyp\u001b[0m\u001b[0;34m=\u001b[0m\u001b[0mmanager\u001b[0m\u001b[0;34m)\u001b[0m\u001b[0;34m\u001b[0m\u001b[0;34m\u001b[0m\u001b[0m\n\u001b[0m\u001b[1;32m    615\u001b[0m         \u001b[0;32melif\u001b[0m \u001b[0misinstance\u001b[0m\u001b[0;34m(\u001b[0m\u001b[0mdata\u001b[0m\u001b[0;34m,\u001b[0m \u001b[0mma\u001b[0m\u001b[0;34m.\u001b[0m\u001b[0mMaskedArray\u001b[0m\u001b[0;34m)\u001b[0m\u001b[0;34m:\u001b[0m\u001b[0;34m\u001b[0m\u001b[0;34m\u001b[0m\u001b[0m\n\u001b[1;32m    616\u001b[0m             \u001b[0;32mimport\u001b[0m \u001b[0mnumpy\u001b[0m\u001b[0;34m.\u001b[0m\u001b[0mma\u001b[0m\u001b[0;34m.\u001b[0m\u001b[0mmrecords\u001b[0m \u001b[0;32mas\u001b[0m \u001b[0mmrecords\u001b[0m\u001b[0;34m\u001b[0m\u001b[0;34m\u001b[0m\u001b[0m\n",
            "\u001b[0;32m/usr/local/lib/python3.7/dist-packages/pandas/core/internals/construction.py\u001b[0m in \u001b[0;36mdict_to_mgr\u001b[0;34m(data, index, columns, dtype, typ, copy)\u001b[0m\n\u001b[1;32m    463\u001b[0m \u001b[0;34m\u001b[0m\u001b[0m\n\u001b[1;32m    464\u001b[0m     return arrays_to_mgr(\n\u001b[0;32m--> 465\u001b[0;31m         \u001b[0marrays\u001b[0m\u001b[0;34m,\u001b[0m \u001b[0mdata_names\u001b[0m\u001b[0;34m,\u001b[0m \u001b[0mindex\u001b[0m\u001b[0;34m,\u001b[0m \u001b[0mcolumns\u001b[0m\u001b[0;34m,\u001b[0m \u001b[0mdtype\u001b[0m\u001b[0;34m=\u001b[0m\u001b[0mdtype\u001b[0m\u001b[0;34m,\u001b[0m \u001b[0mtyp\u001b[0m\u001b[0;34m=\u001b[0m\u001b[0mtyp\u001b[0m\u001b[0;34m,\u001b[0m \u001b[0mconsolidate\u001b[0m\u001b[0;34m=\u001b[0m\u001b[0mcopy\u001b[0m\u001b[0;34m\u001b[0m\u001b[0;34m\u001b[0m\u001b[0m\n\u001b[0m\u001b[1;32m    466\u001b[0m     )\n\u001b[1;32m    467\u001b[0m \u001b[0;34m\u001b[0m\u001b[0m\n",
            "\u001b[0;32m/usr/local/lib/python3.7/dist-packages/pandas/core/internals/construction.py\u001b[0m in \u001b[0;36marrays_to_mgr\u001b[0;34m(arrays, arr_names, index, columns, dtype, verify_integrity, typ, consolidate)\u001b[0m\n\u001b[1;32m    117\u001b[0m         \u001b[0;31m# figure out the index, if necessary\u001b[0m\u001b[0;34m\u001b[0m\u001b[0;34m\u001b[0m\u001b[0;34m\u001b[0m\u001b[0m\n\u001b[1;32m    118\u001b[0m         \u001b[0;32mif\u001b[0m \u001b[0mindex\u001b[0m \u001b[0;32mis\u001b[0m \u001b[0;32mNone\u001b[0m\u001b[0;34m:\u001b[0m\u001b[0;34m\u001b[0m\u001b[0;34m\u001b[0m\u001b[0m\n\u001b[0;32m--> 119\u001b[0;31m             \u001b[0mindex\u001b[0m \u001b[0;34m=\u001b[0m \u001b[0m_extract_index\u001b[0m\u001b[0;34m(\u001b[0m\u001b[0marrays\u001b[0m\u001b[0;34m)\u001b[0m\u001b[0;34m\u001b[0m\u001b[0;34m\u001b[0m\u001b[0m\n\u001b[0m\u001b[1;32m    120\u001b[0m         \u001b[0;32melse\u001b[0m\u001b[0;34m:\u001b[0m\u001b[0;34m\u001b[0m\u001b[0;34m\u001b[0m\u001b[0m\n\u001b[1;32m    121\u001b[0m             \u001b[0mindex\u001b[0m \u001b[0;34m=\u001b[0m \u001b[0mensure_index\u001b[0m\u001b[0;34m(\u001b[0m\u001b[0mindex\u001b[0m\u001b[0;34m)\u001b[0m\u001b[0;34m\u001b[0m\u001b[0;34m\u001b[0m\u001b[0m\n",
            "\u001b[0;32m/usr/local/lib/python3.7/dist-packages/pandas/core/internals/construction.py\u001b[0m in \u001b[0;36m_extract_index\u001b[0;34m(data)\u001b[0m\n\u001b[1;32m    633\u001b[0m             \u001b[0mlengths\u001b[0m \u001b[0;34m=\u001b[0m \u001b[0mlist\u001b[0m\u001b[0;34m(\u001b[0m\u001b[0mset\u001b[0m\u001b[0;34m(\u001b[0m\u001b[0mraw_lengths\u001b[0m\u001b[0;34m)\u001b[0m\u001b[0;34m)\u001b[0m\u001b[0;34m\u001b[0m\u001b[0;34m\u001b[0m\u001b[0m\n\u001b[1;32m    634\u001b[0m             \u001b[0;32mif\u001b[0m \u001b[0mlen\u001b[0m\u001b[0;34m(\u001b[0m\u001b[0mlengths\u001b[0m\u001b[0;34m)\u001b[0m \u001b[0;34m>\u001b[0m \u001b[0;36m1\u001b[0m\u001b[0;34m:\u001b[0m\u001b[0;34m\u001b[0m\u001b[0;34m\u001b[0m\u001b[0m\n\u001b[0;32m--> 635\u001b[0;31m                 \u001b[0;32mraise\u001b[0m \u001b[0mValueError\u001b[0m\u001b[0;34m(\u001b[0m\u001b[0;34m\"All arrays must be of the same length\"\u001b[0m\u001b[0;34m)\u001b[0m\u001b[0;34m\u001b[0m\u001b[0;34m\u001b[0m\u001b[0m\n\u001b[0m\u001b[1;32m    636\u001b[0m \u001b[0;34m\u001b[0m\u001b[0m\n\u001b[1;32m    637\u001b[0m             \u001b[0;32mif\u001b[0m \u001b[0mhave_dicts\u001b[0m\u001b[0;34m:\u001b[0m\u001b[0;34m\u001b[0m\u001b[0;34m\u001b[0m\u001b[0m\n",
            "\u001b[0;31mValueError\u001b[0m: All arrays must be of the same length"
          ]
        }
      ]
    },
    {
      "cell_type": "code",
      "source": [
        "for i in range(len(groups)):\n",
        "  print(len(groups[i]))"
      ],
      "metadata": {
        "id": "DqmdtwXGgEVp",
        "outputId": "783b4b67-8462-441c-fbe0-2927eb4d5434",
        "colab": {
          "base_uri": "https://localhost:8080/"
        }
      },
      "execution_count": 30,
      "outputs": [
        {
          "output_type": "stream",
          "name": "stdout",
          "text": [
            "64\n",
            "99\n",
            "117\n"
          ]
        }
      ]
    },
    {
      "cell_type": "code",
      "source": [
        "for i in range(117-64):\n",
        "  groups[0].append('nan')"
      ],
      "metadata": {
        "id": "9yKTrR9RgzDG"
      },
      "execution_count": 32,
      "outputs": []
    },
    {
      "cell_type": "code",
      "source": [
        "for i in range(117-99):\n",
        "  groups[1].append('nan')"
      ],
      "metadata": {
        "id": "8yjgw67BhPHf"
      },
      "execution_count": 33,
      "outputs": []
    },
    {
      "cell_type": "code",
      "source": [
        "for i in range(len(groups)):\n",
        "  print(len(groups[i]))"
      ],
      "metadata": {
        "id": "QDywUrcyhYUT",
        "outputId": "892cb9ac-27c8-493b-93bb-87355cbe77f5",
        "colab": {
          "base_uri": "https://localhost:8080/"
        }
      },
      "execution_count": 34,
      "outputs": [
        {
          "output_type": "stream",
          "name": "stdout",
          "text": [
            "117\n",
            "117\n",
            "117\n"
          ]
        }
      ]
    },
    {
      "cell_type": "code",
      "source": [
        "pd.DataFrame({'group1':groups[0],'group2':groups[1],'group3':groups[2]}).to_csv('clusters.csv')"
      ],
      "metadata": {
        "id": "dam_45wwhaiK"
      },
      "execution_count": 35,
      "outputs": []
    },
    {
      "cell_type": "code",
      "source": [
        "kmeans.predict(\n",
        "    \n",
        ")"
      ],
      "metadata": {
        "id": "Dobg36irhvrf"
      },
      "execution_count": null,
      "outputs": []
    }
  ],
  "metadata": {
    "colab": {
      "name": "Writings_clustering.ipynb",
      "provenance": [],
      "authorship_tag": "ABX9TyPQGSfUdtaAFWOmziVPl9B6",
      "include_colab_link": true
    },
    "kernelspec": {
      "display_name": "Python 3",
      "name": "python3"
    },
    "language_info": {
      "name": "python"
    }
  },
  "nbformat": 4,
  "nbformat_minor": 0
}